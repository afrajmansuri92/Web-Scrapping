{
 "cells": [
  {
   "cell_type": "code",
   "execution_count": 132,
   "id": "2cce417d",
   "metadata": {},
   "outputs": [],
   "source": [
    "import pandas as pd\n",
    "import requests\n",
    "from bs4 import BeautifulSoup\n",
    "import numpy as np\n",
    "\n"
   ]
  },
  {
   "cell_type": "code",
   "execution_count": 133,
   "id": "191725bd",
   "metadata": {},
   "outputs": [],
   "source": [
    "headers = {'User-Agent':'Mozilla/5.0 (Windows NT 6.3; Win64; x64) AppleWebKit/537.36 (KHTML, like Gecko) Chrome/80.0.3987.162 Safari/537.36'}\n",
    "\n",
    "webpage=requests.get('https://www.ambitionbox.com/list-of-companies?page=1', headers=headers).text"
   ]
  },
  {
   "cell_type": "code",
   "execution_count": 134,
   "id": "8367e807",
   "metadata": {},
   "outputs": [],
   "source": [
    " soup =BeautifulSoup(webpage, 'lxml')"
   ]
  },
  {
   "cell_type": "code",
   "execution_count": 135,
   "id": "d2686e95",
   "metadata": {},
   "outputs": [],
   "source": [
    "#print(soup.prettify())"
   ]
  },
  {
   "cell_type": "code",
   "execution_count": 136,
   "id": "fe9892bb",
   "metadata": {},
   "outputs": [],
   "source": [
    "#soup.find_all('h1')[0].text"
   ]
  },
  {
   "cell_type": "code",
   "execution_count": 137,
   "id": "95e18bd4",
   "metadata": {},
   "outputs": [],
   "source": [
    " #for i in soup.find_all('h2'):\n",
    "        #print(i.text.strip())"
   ]
  },
  {
   "cell_type": "code",
   "execution_count": 138,
   "id": "30b0f2b4",
   "metadata": {},
   "outputs": [],
   "source": [
    " #for i in soup.find_all('p', class_='rating'):\n",
    "       # print(i.text.strip())"
   ]
  },
  {
   "cell_type": "code",
   "execution_count": 139,
   "id": "b6edba1f",
   "metadata": {},
   "outputs": [],
   "source": [
    "#for i in soup.find_all('a', class_='review-count'):\n",
    "        #print(i.text.strip())"
   ]
  },
  {
   "cell_type": "code",
   "execution_count": 140,
   "id": "bcaa3612",
   "metadata": {},
   "outputs": [],
   "source": [
    "#for i in soup.find_all('p', class_='infoEntity'):\n",
    "        #print(i.text.strip())"
   ]
  },
  {
   "cell_type": "code",
   "execution_count": 141,
   "id": "062a0491",
   "metadata": {},
   "outputs": [],
   "source": [
    "company= soup.find_all('div', class_='company-content-wrapper')"
   ]
  },
  {
   "cell_type": "code",
   "execution_count": 142,
   "id": "c597ba61",
   "metadata": {},
   "outputs": [
    {
     "data": {
      "text/plain": [
       "30"
      ]
     },
     "execution_count": 142,
     "metadata": {},
     "output_type": "execute_result"
    }
   ],
   "source": [
    "len(company)"
   ]
  },
  {
   "cell_type": "code",
   "execution_count": 143,
   "id": "276e28d3",
   "metadata": {},
   "outputs": [],
   "source": [
    "#qqq\n",
    "    "
   ]
  },
  {
   "cell_type": "code",
   "execution_count": 144,
   "id": "fc7af45a",
   "metadata": {},
   "outputs": [],
   "source": [
    "#df"
   ]
  },
  {
   "cell_type": "code",
   "execution_count": 151,
   "id": "ff970568",
   "metadata": {},
   "outputs": [],
   "source": [
    "final = pd.DataFrame()\n",
    "\n",
    "for j in range(1,333):\n",
    "    url ='https://www.ambitionbox.com/list-of-companies?page={}'.format(j)\n",
    "    headers = {'User-Agent':'Mozilla/5.0 (Windows NT 6.3; Win64; x64) AppleWebKit/537.36 (KHTML, like Gecko) Chrome/80.0.3987.162 Safari/537.36'}\n",
    "    webpage=requests.get(url, headers=headers).text\n",
    "    \n",
    "    soup =BeautifulSoup(webpage, 'lxml')\n",
    "    company= soup.find_all('div', class_='company-content-wrapper')\n",
    "\n",
    "    name = []\n",
    "    rating = []\n",
    "    review = []\n",
    "    ctype = []\n",
    "    hq = []\n",
    "    old = []\n",
    "    employees =[]\n",
    "\n",
    "    for i in company:\n",
    "        name.append(i.find('h2').text.strip())\n",
    "        rating.append(i.find('p', class_='rating').text.strip())\n",
    "        review.append(i.find('a', class_='review-count').text.strip())\n",
    "        try:\n",
    "            ctype.append(i.find_all('p', class_='infoEntity')[0].text.strip())\n",
    "        except:\n",
    "            ctype.append(np.nan)\n",
    "        try:\n",
    "            hq.append(i.find_all('p', class_='infoEntity')[1].text.strip())\n",
    "        except:\n",
    "            hq.append(np.nan)\n",
    "        try:\n",
    "            old.append(i.find_all('p', class_='infoEntity')[2].text.strip())\n",
    "        except:\n",
    "            old.append(np.nan)\n",
    "        try:\n",
    "            employees.append(i.find_all('p', class_='infoEntity')[3].text.strip())\n",
    "        except:\n",
    "            employees.append(np.nan)\n",
    "    d = {'name': name , 'rating': rating, 'review': review, 'ctype':ctype, 'hq': hq, 'old': old, 'employees': employees}\n",
    "\n",
    "    df = pd.DataFrame(d)\n",
    "    final = final.append(df, ignore_index=True)\n",
    " \n",
    "    \n",
    "        "
   ]
  },
  {
   "cell_type": "code",
   "execution_count": 153,
   "id": "7d88d5ec",
   "metadata": {},
   "outputs": [
    {
     "data": {
      "text/html": [
       "<div>\n",
       "<style scoped>\n",
       "    .dataframe tbody tr th:only-of-type {\n",
       "        vertical-align: middle;\n",
       "    }\n",
       "\n",
       "    .dataframe tbody tr th {\n",
       "        vertical-align: top;\n",
       "    }\n",
       "\n",
       "    .dataframe thead th {\n",
       "        text-align: right;\n",
       "    }\n",
       "</style>\n",
       "<table border=\"1\" class=\"dataframe\">\n",
       "  <thead>\n",
       "    <tr style=\"text-align: right;\">\n",
       "      <th></th>\n",
       "      <th>name</th>\n",
       "      <th>rating</th>\n",
       "      <th>review</th>\n",
       "      <th>ctype</th>\n",
       "      <th>hq</th>\n",
       "      <th>old</th>\n",
       "      <th>employees</th>\n",
       "    </tr>\n",
       "  </thead>\n",
       "  <tbody>\n",
       "    <tr>\n",
       "      <th>0</th>\n",
       "      <td>TCS</td>\n",
       "      <td>3.9</td>\n",
       "      <td>(27.7k Reviews)</td>\n",
       "      <td>Public</td>\n",
       "      <td>Mumbai,Maharashtra + 208 more</td>\n",
       "      <td>54 years old</td>\n",
       "      <td>1 Lakh+ employees (India)</td>\n",
       "    </tr>\n",
       "    <tr>\n",
       "      <th>1</th>\n",
       "      <td>Accenture</td>\n",
       "      <td>4.0</td>\n",
       "      <td>(21.1k Reviews)</td>\n",
       "      <td>Public</td>\n",
       "      <td>Dublin,Dublin + 121 more</td>\n",
       "      <td>33 years old</td>\n",
       "      <td>1 Lakh+ employees (India)</td>\n",
       "    </tr>\n",
       "    <tr>\n",
       "      <th>2</th>\n",
       "      <td>Cognizant</td>\n",
       "      <td>3.9</td>\n",
       "      <td>(19.4k Reviews)</td>\n",
       "      <td>Private</td>\n",
       "      <td>Teaneck,New Jersey + 72 more</td>\n",
       "      <td>28 years old</td>\n",
       "      <td>1 Lakh+ employees (India)</td>\n",
       "    </tr>\n",
       "    <tr>\n",
       "      <th>3</th>\n",
       "      <td>ICICI Bank</td>\n",
       "      <td>4.0</td>\n",
       "      <td>(18.8k Reviews)</td>\n",
       "      <td>Public</td>\n",
       "      <td>Mumbai,Maharashtra + 905 more</td>\n",
       "      <td>28 years old</td>\n",
       "      <td>50k-1 Lakh employees (India)</td>\n",
       "    </tr>\n",
       "    <tr>\n",
       "      <th>4</th>\n",
       "      <td>HDFC Bank</td>\n",
       "      <td>4.0</td>\n",
       "      <td>(16.6k Reviews)</td>\n",
       "      <td>Public</td>\n",
       "      <td>Mumbai,Maharashtra + 977 more</td>\n",
       "      <td>28 years old</td>\n",
       "      <td>1 Lakh+ employees (India)</td>\n",
       "    </tr>\n",
       "    <tr>\n",
       "      <th>...</th>\n",
       "      <td>...</td>\n",
       "      <td>...</td>\n",
       "      <td>...</td>\n",
       "      <td>...</td>\n",
       "      <td>...</td>\n",
       "      <td>...</td>\n",
       "      <td>...</td>\n",
       "    </tr>\n",
       "    <tr>\n",
       "      <th>9954</th>\n",
       "      <td>Gtec Computer Educ...</td>\n",
       "      <td>3.8</td>\n",
       "      <td>(38 Reviews)</td>\n",
       "      <td>Private</td>\n",
       "      <td>Calicut + 13 more</td>\n",
       "      <td>21 years old</td>\n",
       "      <td>501-1k employees (Global)</td>\n",
       "    </tr>\n",
       "    <tr>\n",
       "      <th>9955</th>\n",
       "      <td>Sandeep</td>\n",
       "      <td>2.9</td>\n",
       "      <td>(38 Reviews)</td>\n",
       "      <td>Public</td>\n",
       "      <td>Kolkata + 14 more</td>\n",
       "      <td>40 years old</td>\n",
       "      <td>NaN</td>\n",
       "    </tr>\n",
       "    <tr>\n",
       "      <th>9956</th>\n",
       "      <td>SRS Cinemas</td>\n",
       "      <td>4.1</td>\n",
       "      <td>(38 Reviews)</td>\n",
       "      <td>Faridabad + 12 more</td>\n",
       "      <td>18 years old</td>\n",
       "      <td>NaN</td>\n",
       "      <td>NaN</td>\n",
       "    </tr>\n",
       "    <tr>\n",
       "      <th>9957</th>\n",
       "      <td>Currie &amp; Brown</td>\n",
       "      <td>4.2</td>\n",
       "      <td>(38 Reviews)</td>\n",
       "      <td>Private</td>\n",
       "      <td>London + 9 more</td>\n",
       "      <td>146 years old</td>\n",
       "      <td>1k-5k employees (Global)</td>\n",
       "    </tr>\n",
       "    <tr>\n",
       "      <th>9958</th>\n",
       "      <td>Acg Pampac Machine...</td>\n",
       "      <td>4.5</td>\n",
       "      <td>(38 Reviews)</td>\n",
       "      <td>Private</td>\n",
       "      <td>Mumbai,Maharashtra + 2 more</td>\n",
       "      <td>61 years old</td>\n",
       "      <td>1k-5k employees (India)</td>\n",
       "    </tr>\n",
       "  </tbody>\n",
       "</table>\n",
       "<p>9959 rows × 7 columns</p>\n",
       "</div>"
      ],
      "text/plain": [
       "                       name rating           review                ctype  \\\n",
       "0                       TCS    3.9  (27.7k Reviews)               Public   \n",
       "1                 Accenture    4.0  (21.1k Reviews)               Public   \n",
       "2                 Cognizant    3.9  (19.4k Reviews)              Private   \n",
       "3                ICICI Bank    4.0  (18.8k Reviews)               Public   \n",
       "4                 HDFC Bank    4.0  (16.6k Reviews)               Public   \n",
       "...                     ...    ...              ...                  ...   \n",
       "9954  Gtec Computer Educ...    3.8     (38 Reviews)              Private   \n",
       "9955                Sandeep    2.9     (38 Reviews)               Public   \n",
       "9956            SRS Cinemas    4.1     (38 Reviews)  Faridabad + 12 more   \n",
       "9957         Currie & Brown    4.2     (38 Reviews)              Private   \n",
       "9958  Acg Pampac Machine...    4.5     (38 Reviews)              Private   \n",
       "\n",
       "                                 hq            old  \\\n",
       "0     Mumbai,Maharashtra + 208 more   54 years old   \n",
       "1          Dublin,Dublin + 121 more   33 years old   \n",
       "2      Teaneck,New Jersey + 72 more   28 years old   \n",
       "3     Mumbai,Maharashtra + 905 more   28 years old   \n",
       "4     Mumbai,Maharashtra + 977 more   28 years old   \n",
       "...                             ...            ...   \n",
       "9954              Calicut + 13 more   21 years old   \n",
       "9955              Kolkata + 14 more   40 years old   \n",
       "9956                   18 years old            NaN   \n",
       "9957                London + 9 more  146 years old   \n",
       "9958    Mumbai,Maharashtra + 2 more   61 years old   \n",
       "\n",
       "                         employees  \n",
       "0        1 Lakh+ employees (India)  \n",
       "1        1 Lakh+ employees (India)  \n",
       "2        1 Lakh+ employees (India)  \n",
       "3     50k-1 Lakh employees (India)  \n",
       "4        1 Lakh+ employees (India)  \n",
       "...                            ...  \n",
       "9954     501-1k employees (Global)  \n",
       "9955                           NaN  \n",
       "9956                           NaN  \n",
       "9957      1k-5k employees (Global)  \n",
       "9958       1k-5k employees (India)  \n",
       "\n",
       "[9959 rows x 7 columns]"
      ]
     },
     "execution_count": 153,
     "metadata": {},
     "output_type": "execute_result"
    }
   ],
   "source": [
    "final"
   ]
  },
  {
   "cell_type": "code",
   "execution_count": 154,
   "id": "dc516f58",
   "metadata": {},
   "outputs": [],
   "source": [
    "final.to_csv('companies.csv')"
   ]
  },
  {
   "cell_type": "code",
   "execution_count": null,
   "id": "6ac676b3",
   "metadata": {},
   "outputs": [],
   "source": []
  },
  {
   "cell_type": "code",
   "execution_count": null,
   "id": "6797c59f",
   "metadata": {},
   "outputs": [],
   "source": []
  },
  {
   "cell_type": "code",
   "execution_count": null,
   "id": "7a44f0d3",
   "metadata": {},
   "outputs": [],
   "source": []
  }
 ],
 "metadata": {
  "kernelspec": {
   "display_name": "Python 3 (ipykernel)",
   "language": "python",
   "name": "python3"
  },
  "language_info": {
   "codemirror_mode": {
    "name": "ipython",
    "version": 3
   },
   "file_extension": ".py",
   "mimetype": "text/x-python",
   "name": "python",
   "nbconvert_exporter": "python",
   "pygments_lexer": "ipython3",
   "version": "3.9.7"
  }
 },
 "nbformat": 4,
 "nbformat_minor": 5
}
